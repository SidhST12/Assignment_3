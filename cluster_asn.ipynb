{
 "cells": [
  {
   "cell_type": "code",
   "execution_count": 42,
   "metadata": {},
   "outputs": [],
   "source": [
    "import matplotlib.pyplot as plt\n",
    "import seaborn as sns\n",
    "import numpy as np\n",
    "import pandas as pd\n",
    "from sklearn.mixture import GaussianMixture\n",
    "\n",
    "from sklearn.datasets import fetch_openml\n",
    "from sklearn.cluster import KMeans"
   ]
  },
  {
   "attachments": {},
   "cell_type": "markdown",
   "metadata": {},
   "source": [
    "# Assignment 3 - Clustering\n",
    "\n",
    "For this assignment you'll need to use some clustering knowledge to build a function that can generate handwritten numbers from a provided number. \n",
    "\n",
    "The modelling parts of this assignment are not very complex, the application of the clustering algorithms is very similar to the examples from class. This will require a little more manipulation of data, and building a little bit of structure around the models, that's where some of the challenge lies. \n",
    "\n",
    "## Requirements\n",
    "<ul>\n",
    "<li>Use clustering to take the X data (the features/pixels) of the MNIST dataset, and group it into clusters. \n",
    "    <ul>\n",
    "    <li> Do not use the targets from the dataset at all. \n",
    "    <li> Use as many clusters as you think is appropriate.\n",
    "    </ul>\n",
    "<li>Assign labels to your clusters, so there is now a label for each cluster. You'll need to manually do a little mapping here by eye. \n",
    "<li><b>So, to this point. You take the images, ditch their labels, and do clustering to group them. You don't know which cluster is which digit. You have to then label them, or look at each one and say, \"looks like 7s\", then assign that group a label of 7. </b>\n",
    "<li>Use GMM to build a function that can generate a new digit from the information in the cluster. \n",
    "<li>Write a function, writeNumber, that can take in an integer (you can assume it is between 1 and 20 digits, this is mostly for printing purposes, the modelling part isn't impacted by this at all) and print out that integer as a generated handwritten number. \n",
    "<li><b>When generating the handwritten numbers, each version of a digit should be different. I.e. If the number printed is 22222, there should not be 5 identical 2s, they should vary a bit like real writing. Each digit should be a new generation of data.</b>\n",
    "</ul>\n",
    "\n",
    "## Deliverables\n",
    "Submit your .ipynb file to the Moodle dropbox. PLEASE make sure that the file runs BY ITSELF outside of importing libraries. It should not reference any other files, either data or code. \n",
    "\n",
    "Within your file, create a function called writeNumber, which takes a number as an input, and prints it out as a series of handwritten digits. The function should be callable like this, if I wanted to print the number 218201\n",
    "\n",
    "~~~\n",
    "writeNumber(218201)\n",
    "~~~\n",
    "\n",
    "This would produce something that looks, somewhat, like this:\n",
    "\n",
    "![Writing Example](example.png \"Writing Example\" )\n",
    "\n",
    "The exact appearance of the generated writing can vary, it likely won't be as well defined as this picture. As long as I can read it as a number, it is fine. \n",
    "\n",
    "Hint: the number of clusters may vary. \n",
    "\n",
    "## Grading\n",
    "<ul>\n",
    "<li> 70% - Code works. This is mostly a yes/no thing, if it doesn't work I'll try to see if it was a small or large issue in the code, but it largely works or it doesn't. \n",
    "<li> 20% - Numbers appearance. Is the writing OK? I'm not going to be overly picky, if they are reasonably legible, that is fine. \n",
    "<li> 10% - Code legibility. Is a quick read over of the code clear? Sections, comments, etc... \n",
    "</ul>"
   ]
  },
  {
   "cell_type": "markdown",
   "metadata": {},
   "source": [
    "## Load Data\n",
    "<b> Please do not change this (substantially), probably outside of choosing between the full data and a subset. Don't load the target. </b>\n",
    "\n",
    "Note: testing will be much faster with a subset of records. "
   ]
  },
  {
   "cell_type": "code",
   "execution_count": 43,
   "metadata": {},
   "outputs": [
    {
     "name": "stdout",
     "output_type": "stream",
     "text": [
      "(70000, 784)\n"
     ]
    }
   ],
   "source": [
    "#Load Data\n",
    "from sklearn.datasets import fetch_openml\n",
    "mnist = fetch_openml('mnist_784', version=1)\n",
    "#mnist = mnist[0:15000]\n",
    "X = mnist[\"data\"]\n",
    "print(X.shape)"
   ]
  },
  {
   "attachments": {},
   "cell_type": "markdown",
   "metadata": {},
   "source": [
    "### NORMALIZING DATA:\n",
    "\n",
    "Normalizing the data means scaling the values of the data to a common range so that they can be compared on the same scale. In the given code, the line X = mnist.data / 255.0 normalizes the pixel values in the MNIST dataset by dividing each pixel value by 255.0, which is the maximum possible pixel value. This results in all the pixel values being scaled down to a range between 0 and 1.\n",
    "\n",
    "This step is important because clustering algorithms can be sensitive to the scale of the data. Normalizing the data ensures that each feature (in this case, pixel) contributes equally to the clustering process, regardless of its original scale."
   ]
  },
  {
   "cell_type": "code",
   "execution_count": 44,
   "metadata": {},
   "outputs": [],
   "source": [
    "X = mnist.data / 255.0 # normalize the data"
   ]
  },
  {
   "cell_type": "code",
   "execution_count": 45,
   "metadata": {},
   "outputs": [],
   "source": [
    "X= X.sample(30000)"
   ]
  },
  {
   "cell_type": "code",
   "execution_count": 46,
   "metadata": {},
   "outputs": [],
   "source": [
    "X = mnist.data.astype('float64')"
   ]
  },
  {
   "cell_type": "markdown",
   "metadata": {},
   "source": [
    "## Cluster \n",
    "\n",
    "We need to break the data into clusters first... "
   ]
  },
  {
   "attachments": {},
   "cell_type": "markdown",
   "metadata": {},
   "source": [
    "### Applying K-mean clustering of data:"
   ]
  },
  {
   "attachments": {},
   "cell_type": "markdown",
   "metadata": {},
   "source": [
    "from sklearn.cluster import KMeans\n",
    "kmeans = KMeans(n_clusters=10, random_state=0)\n",
    "clusters = kmeans.fit_predict(X)\n",
    "kmeans.cluster_centers_.shape"
   ]
  },
  {
   "cell_type": "code",
   "execution_count": 47,
   "metadata": {},
   "outputs": [],
   "source": [
    "from sklearn.cluster import KMeans\n",
    "\n",
    "kmeans = KMeans(n_clusters=10, random_state=42).fit(X)"
   ]
  },
  {
   "attachments": {},
   "cell_type": "markdown",
   "metadata": {},
   "source": [
    "##### Create a KMeans object with 10 clusters\n",
    "kmeans = KMeans(n_clusters=10)\n",
    "\n",
    "##### Fit the KMeans model to the data\n",
    "kmeans.fit(X)\n",
    "\n",
    "##### Predict the cluster labels for each data point\n",
    "labels = kmeans.predict(X)"
   ]
  },
  {
   "attachments": {},
   "cell_type": "markdown",
   "metadata": {},
   "source": [
    "### VISUALIZING THE RESULT:"
   ]
  },
  {
   "attachments": {},
   "cell_type": "markdown",
   "metadata": {},
   "source": [
    "###### WorkBook Example:\n",
    "\n",
    "fig, ax = plt.subplots(2, 5, figsize=(8, 3))\n",
    "centers = kmeans.cluster_centers_.reshape(10, 8, 8)\n",
    "for axi, center in zip(ax.flat, centers):\n",
    "    axi.set(xticks=[], yticks=[])\n",
    "    axi.imshow(center, interpolation='nearest', cmap=plt.cm.binary)"
   ]
  },
  {
   "cell_type": "code",
   "execution_count": 48,
   "metadata": {},
   "outputs": [
    {
     "data": {
      "image/png": "[encoded data removed]",
      "text/plain": [
       "<Figure size 864x432 with 10 Axes>"
      ]
     },
     "metadata": {
      "needs_background": "light"
     },
     "output_type": "display_data"
    }
   ],
   "source": [
    "fig, axs = plt.subplots(2, 5, figsize=(12, 6))\n",
    "for i, ax in enumerate(axs.flatten()):\n",
    "    ax.imshow(kmeans.cluster_centers_[i].reshape(28, 28), cmap='gray')\n",
    "    ax.axis('off')\n",
    "plt.show()\n"
   ]
  },
  {
   "cell_type": "code",
   "execution_count": 49,
   "metadata": {},
   "outputs": [],
   "source": [
    "\n",
    "\n",
    "#cluster_labels = {0: 8, 1: 9, 2: 3, 3: 2, 4: 7, 5: 6, 6: 1, 7: 4, 8: 0, 9: 5}\n",
    "\n",
    "cluster_ids = kmeans.predict(X)\n",
    "\n",
    "image_labels = {3: 0, 1: 1, 5: 2, 9: 3, 2: 4, 4: 5, 6: 6, 7: 7, 8: 8, 0: 9}\n",
    "\n",
    "cluster_labels = {cluster_id: image_labels[image_label] for cluster_id, image_label in enumerate([3,1,5,9,2,4,6,7,8,0])}\n",
    "\n",
    "predicted_labels = [cluster_labels[cluster_id] for cluster_id in cluster_ids]\n"
   ]
  },
  {
   "cell_type": "code",
   "execution_count": 50,
   "metadata": {},
   "outputs": [
    {
     "name": "stdout",
     "output_type": "stream",
     "text": [
      "Cluster 0 data shape: (8674, 784)\n",
      "Cluster 1 data shape: (6658, 784)\n",
      "Cluster 2 data shape: (6482, 784)\n",
      "Cluster 3 data shape: (10446, 784)\n",
      "Cluster 4 data shape: (5312, 784)\n",
      "Cluster 5 data shape: (9974, 784)\n",
      "Cluster 6 data shape: (4979, 784)\n",
      "Cluster 7 data shape: (5322, 784)\n",
      "Cluster 8 data shape: (6771, 784)\n",
      "Cluster 9 data shape: (5382, 784)\n"
     ]
    }
   ],
   "source": [
    "for i in range(10):\n",
    "    cluster_data = X[cluster_ids == i]\n",
    "    print(f\"Cluster {i} data shape: {cluster_data.shape}\")"
   ]
  },
  {
   "cell_type": "code",
   "execution_count": 51,
   "metadata": {},
   "outputs": [],
   "source": [
    "from sklearn.mixture import GaussianMixture\n",
    "\n",
    "# Convert cluster_ids to 1-dimensional array of integers\n",
    "cluster_ids = cluster_ids.squeeze().astype(int)\n",
    "\n",
    "gmms = []\n",
    "for i in range(10):\n",
    "    cluster_data = X[cluster_ids == i]\n",
    "    gmm = GaussianMixture(n_components=10, covariance_type='full', random_state=42)\n",
    "    gmm.fit(cluster_data)\n",
    "    gmms.append(gmm)"
   ]
  },
  {
   "cell_type": "code",
   "execution_count": 52,
   "metadata": {},
   "outputs": [
    {
     "name": "stdout",
     "output_type": "stream",
     "text": [
      "Cluster 0 data shape: (8674, 784)\n",
      "Cluster 1 data shape: (6658, 784)\n",
      "Cluster 2 data shape: (6482, 784)\n",
      "Cluster 3 data shape: (10446, 784)\n",
      "Cluster 4 data shape: (5312, 784)\n",
      "Cluster 5 data shape: (9974, 784)\n",
      "Cluster 6 data shape: (4979, 784)\n",
      "Cluster 7 data shape: (5322, 784)\n",
      "Cluster 8 data shape: (6771, 784)\n",
      "Cluster 9 data shape: (5382, 784)\n"
     ]
    }
   ],
   "source": [
    "for i in range(10):\n",
    "    cluster_data = X[cluster_ids == i]\n",
    "    print(f\"Cluster {i} data shape: {cluster_data.shape}\")"
   ]
  },
  {
   "cell_type": "code",
   "execution_count": 53,
   "metadata": {},
   "outputs": [],
   "source": [
    "def writeNumber(num):\n",
    "    fig, axs = plt.subplots(1, len(num), figsize=(len(num)*2, 2))\n",
    "    for i, digit in enumerate(num):\n",
    "        cluster_id = image_labels[int(digit)]\n",
    "        cluster_data = X[cluster_ids == cluster_id]\n",
    "        if len(cluster_data) > 0:\n",
    "            gmm = gmms[cluster_id]\n",
    "            sample = gmm.sample()[0]\n",
    "            image = sample.reshape((28, 28))  # modify the image shape to (28, 28)\n",
    "            axs[i].imshow(image, cmap='gray')\n",
    "        else:\n",
    "            axs[i].imshow(np.zeros((28, 28)), cmap='gray') # display a black image for empty clusters\n",
    "        axs[i].axis('off')\n",
    "    plt.show()\n"
   ]
  },
  {
   "cell_type": "code",
   "execution_count": 55,
   "metadata": {},
   "outputs": [
    {
     "data": {
      "image/png": "[encoded data removed]",
      "text/plain": [
       "<Figure size 864x144 with 6 Axes>"
      ]
     },
     "metadata": {
      "needs_background": "light"
     },
     "output_type": "display_data"
    }
   ],
   "source": [
    "writeNumber('218201')"
   ]
  },
  {
   "cell_type": "code",
   "execution_count": 56,
   "metadata": {},
   "outputs": [],
   "source": [
    "def writeNumber1(num1):\n",
    "    fig, axs = plt.subplots(1, len(num1), figsize=(len(num1)*2, 2))\n",
    "    for i, digit in enumerate(num1):\n",
    "        cluster_id = image_labels[int(digit)]\n",
    "        cluster_data = X[cluster_ids == cluster_id]\n",
    "        if len(cluster_data) > 0:\n",
    "            gmm = gmms[cluster_id]\n",
    "            component_idx = np.random.randint(gmm.n_components) # randomly select a component index\n",
    "            gmm.set_params(random_state=component_idx) # set the random state to the selected component index\n",
    "            sample = gmm.sample()[0] # generate a random sample from the GMM\n",
    "            image = sample.reshape((28, 28))  # modify the image shape to (28, 28)\n",
    "            axs[i].imshow(image, cmap='gray')\n",
    "        else:\n",
    "            axs[i].imshow(np.zeros((28, 28)), cmap='gray') # display a black image for empty clusters\n",
    "        axs[i].axis('off')\n",
    "    plt.show()"
   ]
  },
  {
   "cell_type": "code",
   "execution_count": 57,
   "metadata": {},
   "outputs": [
    {
     "data": {
      "image/png": "[encoded data removed]",
      "text/plain": [
       "<Figure size 864x144 with 6 Axes>"
      ]
     },
     "metadata": {
      "needs_background": "light"
     },
     "output_type": "display_data"
    }
   ],
   "source": [
    "writeNumber1('218201')"
   ]
  }
 ],
 "metadata": {
  "interpreter": {
   "hash": "4d722d3adfa415172c1f5238b519fb86b488acdae450fd691ab06c09f4ca9173"
  },
  "kernelspec": {
   "display_name": "Python 3.9.7 64-bit ('ml3950': conda)",
   "language": "python",
   "name": "python3"
  },
  "language_info": {
   "codemirror_mode": {
    "name": "ipython",
    "version": 3
   },
   "file_extension": ".py",
   "mimetype": "text/x-python",
   "name": "python",
   "nbconvert_exporter": "python",
   "pygments_lexer": "ipython3",
   "version": "3.9.12"
  },
  "orig_nbformat": 4
 },
 "nbformat": 4,
 "nbformat_minor": 2
}
